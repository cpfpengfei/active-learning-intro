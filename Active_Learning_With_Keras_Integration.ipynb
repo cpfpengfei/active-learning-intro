{
  "nbformat": 4,
  "nbformat_minor": 0,
  "metadata": {
    "colab": {
      "name": "Active Learning With Keras Integration.ipynb",
      "provenance": [],
      "collapsed_sections": [],
      "authorship_tag": "ABX9TyNA4bjMUn1pSynGyb0NQtFI"
    },
    "kernelspec": {
      "name": "python3",
      "display_name": "Python 3"
    }
  },
  "cells": [
    {
      "cell_type": "markdown",
      "metadata": {
        "id": "Bvq59utl--3v",
        "colab_type": "text"
      },
      "source": [
        "#1. Active Learning with Gaussian Process\n",
        "\n"
      ]
    },
    {
      "cell_type": "code",
      "metadata": {
        "id": "ZJtJ88WEMhyX",
        "colab_type": "code",
        "outputId": "3de6f1ac-ea9a-4c8f-a56b-896bf609245f",
        "colab": {
          "base_uri": "https://localhost:8080/",
          "height": 173
        }
      },
      "source": [
        "## Active regression with ActiveLearner using Gaussian process \n",
        "!pip install modAL\n",
        "import numpy as np\n",
        "import matplotlib.pyplot as plt\n",
        "from sklearn.gaussian_process import GaussianProcessRegressor\n",
        "from sklearn.gaussian_process.kernels import WhiteKernel, RBF\n",
        "from modAL.models import ActiveLearner"
      ],
      "execution_count": 0,
      "outputs": [
        {
          "output_type": "stream",
          "text": [
            "Collecting modAL\n",
            "  Downloading https://files.pythonhosted.org/packages/1a/36/9558ec3ee50263f10a47c425b43941a9018eebcbd8a95685cb7b2363704c/modAL-0.3.5-py3-none-any.whl\n",
            "Requirement already satisfied: scikit-learn>=0.18 in /usr/local/lib/python3.6/dist-packages (from modAL) (0.22.2.post1)\n",
            "Requirement already satisfied: scipy>=0.18 in /usr/local/lib/python3.6/dist-packages (from modAL) (1.4.1)\n",
            "Requirement already satisfied: numpy>=1.13 in /usr/local/lib/python3.6/dist-packages (from modAL) (1.18.4)\n",
            "Requirement already satisfied: joblib>=0.11 in /usr/local/lib/python3.6/dist-packages (from scikit-learn>=0.18->modAL) (0.14.1)\n",
            "Installing collected packages: modAL\n",
            "Successfully installed modAL-0.3.5\n"
          ],
          "name": "stdout"
        }
      ]
    },
    {
      "cell_type": "code",
      "metadata": {
        "id": "D3ItwZekMl8h",
        "colab_type": "code",
        "colab": {}
      },
      "source": [
        "%matplotlib inline"
      ],
      "execution_count": 0,
      "outputs": []
    },
    {
      "cell_type": "code",
      "metadata": {
        "id": "JULXtaq8z1gF",
        "colab_type": "code",
        "outputId": "7e430fdd-b6bc-46ae-b898-26c3f68dc0bc",
        "colab": {
          "base_uri": "https://localhost:8080/",
          "height": 331
        }
      },
      "source": [
        "X = np.random.choice(np.linspace(0,20,10000),size=200,replace=False).reshape(-1,1)\n",
        "y = np.sin(X) + np.random.normal(scale=0.3, size=X.shape)\n",
        "\n",
        "with plt.style.context('seaborn-white'):\n",
        "  plt.figure(figsize = (10,5))\n",
        "  plt.scatter(X, y, c= 'k', s = 20)\n",
        "  plt.title(\"Sine with noise\")\n",
        "  plt.show()"
      ],
      "execution_count": 0,
      "outputs": [
        {
          "output_type": "display_data",
          "data": {
            "image/png": "[encoded data removed]",
            "text/plain": [
              "<Figure size 720x360 with 1 Axes>"
            ]
          },
          "metadata": {
            "tags": []
          }
        }
      ]
    },
    {
      "cell_type": "code",
      "metadata": {
        "id": "f6LBRtaS0dm-",
        "colab_type": "code",
        "colab": {}
      },
      "source": [
        "# Setting the query strategy to gaussian process regression\n",
        "# This takes in an estimator and a bunch of data and turn it into an instance \n",
        "# estimator / classifier here is gaussian process regression \n",
        "\n",
        "def GP_regression_std(regressor, X):\n",
        "    # measuring the utility of each instance in the pool \n",
        "    _, std = regressor.predict(X, return_std=True)\n",
        "\n",
        "    # selecting the indices of the instances to be queried \n",
        "    query_idx = np.argmax(std)\n",
        "    return query_idx, X[query_idx]"
      ],
      "execution_count": 0,
      "outputs": []
    },
    {
      "cell_type": "code",
      "metadata": {
        "id": "d7Nv7ZMb1DS4",
        "colab_type": "code",
        "colab": {}
      },
      "source": [
        "n_initial = 5\n",
        "initial_idx = np.random.choice(range(len(X)), size=n_initial, replace=False)\n",
        "X_training, y_training = X[initial_idx], y[initial_idx]\n",
        "\n",
        "kernel = RBF(length_scale=1.0, length_scale_bounds=(1e-2, 1e3)) \\\n",
        "         + WhiteKernel(noise_level=1, noise_level_bounds=(1e-10, 1e+1))\n",
        "\n",
        "regressor = ActiveLearner(\n",
        "    estimator=GaussianProcessRegressor(kernel=kernel),\n",
        "    query_strategy=GP_regression_std,\n",
        "    X_training=X_training.reshape(-1, 1), y_training=y_training.reshape(-1, 1)\n",
        ")"
      ],
      "execution_count": 0,
      "outputs": []
    },
    {
      "cell_type": "code",
      "metadata": {
        "id": "02dXFNhX1Fpy",
        "colab_type": "code",
        "outputId": "bcf7438d-fe40-4230-de6d-fc73ec687899",
        "colab": {
          "base_uri": "https://localhost:8080/",
          "height": 331
        }
      },
      "source": [
        "X_grid = np.linspace(0, 20, 1000)\n",
        "y_pred, y_std = regressor.predict(X_grid.reshape(-1, 1), return_std=True)\n",
        "y_pred, y_std = y_pred.ravel(), y_std.ravel()\n",
        "\n",
        "with plt.style.context('seaborn-white'):\n",
        "    plt.figure(figsize=(10, 5))\n",
        "    plt.plot(X_grid, y_pred)\n",
        "    plt.fill_between(X_grid, y_pred - y_std, y_pred + y_std, alpha=0.2) \n",
        "    # The blue band enveloping the regressor represents the standard deviation \n",
        "    # of the Gaussian process at the given point.\n",
        "    plt.scatter(X, y, c='k', s=20)\n",
        "    plt.title('Initial prediction')\n",
        "    plt.show()\n",
        "\n",
        "# The initial regressor is not very accurate "
      ],
      "execution_count": 0,
      "outputs": [
        {
          "output_type": "display_data",
          "data": {
            "image/png": "[encoded data removed]",
            "text/plain": [
              "<Figure size 720x360 with 1 Axes>"
            ]
          },
          "metadata": {
            "tags": []
          }
        }
      ]
    },
    {
      "cell_type": "code",
      "metadata": {
        "id": "DP9FwBAe1H1W",
        "colab_type": "code",
        "colab": {}
      },
      "source": [
        ""
      ],
      "execution_count": 0,
      "outputs": []
    },
    {
      "cell_type": "markdown",
      "metadata": {
        "id": "uVrNHvRD1hQ1",
        "colab_type": "text"
      },
      "source": [
        "**Active Learning**"
      ]
    },
    {
      "cell_type": "code",
      "metadata": {
        "id": "Lq5lVgCy1irv",
        "colab_type": "code",
        "outputId": "34f5cbea-461a-4295-9586-925012a92ec6",
        "colab": {
          "base_uri": "https://localhost:8080/",
          "height": 494
        }
      },
      "source": [
        "n_queries = 100\n",
        "\n",
        "# query and then teach \n",
        "for idx in range(n_queries):\n",
        "    query_idx, query_instance = regressor.query(X)\n",
        "    regressor.teach(X[query_idx].reshape(1, -1), y[query_idx].reshape(1, -1))\n",
        "\n",
        "y_pred_final, y_std_final = regressor.predict(X_grid.reshape(-1, 1), return_std=True)\n",
        "y_pred_final, y_std_final = y_pred_final.ravel(), y_std_final.ravel()\n",
        "\n",
        "with plt.style.context('seaborn-white'):\n",
        "    plt.figure(figsize=(10, 8))\n",
        "    plt.plot(X_grid, y_pred_final)\n",
        "    plt.fill_between(X_grid, y_pred_final - y_std_final, y_pred_final + y_std_final, alpha=0.2)\n",
        "    plt.scatter(X, y, c='k', s=20)\n",
        "    plt.title('Prediction after active learning')\n",
        "    plt.show()"
      ],
      "execution_count": 0,
      "outputs": [
        {
          "output_type": "display_data",
          "data": {
            "image/png": "[encoded data removed]",
            "text/plain": [
              "<Figure size 720x576 with 1 Axes>"
            ]
          },
          "metadata": {
            "tags": []
          }
        }
      ]
    },
    {
      "cell_type": "code",
      "metadata": {
        "id": "1tiJmWPz1tV7",
        "colab_type": "code",
        "colab": {}
      },
      "source": [
        ""
      ],
      "execution_count": 0,
      "outputs": []
    },
    {
      "cell_type": "markdown",
      "metadata": {
        "id": "xUSynKb9_K2X",
        "colab_type": "text"
      },
      "source": [
        "# 2. Bayesian Optimizer Model on Regression Problem\n",
        "\n",
        "From:\n",
        "https://github.com/Ashkan66/CE888Assignment/blob/ce0146ce2387efda768d2efe904a1e61d93ae257/active%20learning%20on%20regression%20problem.ipynb"
      ]
    },
    {
      "cell_type": "code",
      "metadata": {
        "id": "Dy2Qq_ca_QWT",
        "colab_type": "code",
        "colab": {}
      },
      "source": [
        "import numpy as np \n",
        "import pandas as pd\n",
        "\n",
        "from sklearn import preprocessing\n",
        "from sklearn.dummy import DummyRegressor\n",
        "from sklearn.metrics import mean_squared_error\n",
        "from sklearn.gaussian_process.kernels import WhiteKernel, RBF, ConstantKernel, Matern\n",
        "from sklearn.gaussian_process import GaussianProcessRegressor\n",
        "from sklearn.ensemble import RandomForestRegressor\n",
        "from sklearn.linear_model import BayesianRidge\n",
        "\n",
        "from modAL.models import ActiveLearner\n",
        "from modAL.acquisition import max_EI, max_PI, max_UCB\n",
        "from modAL.models import BayesianOptimizer, CommitteeRegressor\n",
        "from modAL.disagreement import max_std_sampling"
      ],
      "execution_count": 0,
      "outputs": []
    },
    {
      "cell_type": "code",
      "metadata": {
        "id": "BEYOG9iGBjxA",
        "colab_type": "code",
        "colab": {}
      },
      "source": [
        "# Example from the following repo:\n",
        "dataset = np.loadtxt(r\"https://raw.githubusercontent.com/Ashkan66/CE888Assignment/ce0146ce2387efda768d2efe904a1e61d93ae257/airfoil_self_noise.csv\", delimiter=',', skiprows=1)\n",
        "np.random.shuffle(dataset)"
      ],
      "execution_count": 0,
      "outputs": []
    },
    {
      "cell_type": "markdown",
      "metadata": {
        "id": "zRnvbJ3DABGw",
        "colab_type": "text"
      },
      "source": [
        "**Prepare dataset**"
      ]
    },
    {
      "cell_type": "code",
      "metadata": {
        "id": "PI7Oq5SPDriC",
        "colab_type": "code",
        "colab": {}
      },
      "source": [
        "X = dataset[:,:-1]\n",
        "# Create the Scaler object\n",
        "scaler = preprocessing.StandardScaler()\n",
        "\n",
        "# Fit your data on the scaler object\n",
        "X = scaler.fit_transform(X)\n",
        "\n",
        "y = dataset[:,-1].reshape(-1,1)\n",
        "# y = scaler.fit_transform(y)\n",
        "\n",
        "# the dataset is broken as follows: \n",
        "# 9% for training, 1% for 10-fold cross validation\n",
        "# 2% for test set and \n",
        "# the rest is treated as the pool for active learning\n",
        "\n",
        "n_train = round(0.09 * X.shape[0])\n",
        "n_val = round(0.01 * X.shape[0])\n",
        "n_test = round(0.02 * X.shape[0])\n",
        "\n",
        "X_train = X[:n_train,:]\n",
        "y_train = y[:n_train]\n",
        "\n",
        "X_test = X[n_train : n_train + n_test, :]\n",
        "y_test = y[n_train : n_train + n_test]\n",
        "\n",
        "X_pool = X[n_train + n_test :, :]\n",
        "y_pool = y[n_train + n_test :]"
      ],
      "execution_count": 0,
      "outputs": []
    },
    {
      "cell_type": "code",
      "metadata": {
        "id": "Oquk_MfHD-Z-",
        "colab_type": "code",
        "colab": {}
      },
      "source": [
        ""
      ],
      "execution_count": 0,
      "outputs": []
    },
    {
      "cell_type": "markdown",
      "metadata": {
        "id": "947ogOZMAFmS",
        "colab_type": "text"
      },
      "source": [
        ""
      ]
    },
    {
      "cell_type": "code",
      "metadata": {
        "id": "MVxb-FTGFki7",
        "colab_type": "code",
        "outputId": "c84c156a-367a-4103-877f-47bc1d8fea8a",
        "colab": {
          "base_uri": "https://localhost:8080/",
          "height": 232
        }
      },
      "source": [
        "query_strats = [max_EI, max_PI, max_UCB]\n",
        "\n",
        "for query_strat in query_strats:\n",
        "    X_pool_temp = X_pool\n",
        "    y_pool_temp = y_pool\n",
        "    print('***')\n",
        "    print(query_strat)\n",
        "    \n",
        "    kernel = RBF(length_scale=1.0, length_scale_bounds=(1e-2, 1e3)) \\\n",
        "         + WhiteKernel(noise_level=1, noise_level_bounds=(1e-10, 1e+1))\n",
        "\n",
        "    # Initialize the active learner\n",
        "    regressor = BayesianOptimizer(\n",
        "        estimator=GaussianProcessRegressor(kernel=kernel),\n",
        "        X_training=X_train, y_training=y_train,\n",
        "        query_strategy=query_strat\n",
        "    )\n",
        "\n",
        "    y_pred = regressor.predict(X_test)\n",
        "    print(mean_squared_error(y_test, y_pred))\n",
        "    # Current MSE\n",
        "\n",
        "\n",
        "    # active learning loop for 100 queries \n",
        "    n_queries = 100\n",
        "    for idx in range(n_queries):\n",
        "        query_idx, query_instance = regressor.query(X_pool_temp)\n",
        "#         print(query_idx)\n",
        "        query_instance = query_instance.reshape(1,-1)\n",
        "        query_label = y[query_idx].reshape(1,-1)\n",
        "        regressor.teach(query_instance, query_label)\n",
        "        X_pool_temp = np.delete(X_pool_temp, query_idx, 0)\n",
        "        y_pool_temp = np.delete(y_pool_temp, query_idx, 0)\n",
        "\n",
        "    y_pred_final = regressor.predict(X_test)\n",
        "    print(mean_squared_error(y_test, y_pred_final))\n",
        "    # final MSE\n",
        "  "
      ],
      "execution_count": 0,
      "outputs": [
        {
          "output_type": "error",
          "ename": "NameError",
          "evalue": "ignored",
          "traceback": [
            "\u001b[0;31m---------------------------------------------------------------------------\u001b[0m",
            "\u001b[0;31mNameError\u001b[0m                                 Traceback (most recent call last)",
            "\u001b[0;32m<ipython-input-1-9ac884250637>\u001b[0m in \u001b[0;36m<module>\u001b[0;34m()\u001b[0m\n\u001b[0;32m----> 1\u001b[0;31m \u001b[0mquery_strats\u001b[0m \u001b[0;34m=\u001b[0m \u001b[0;34m[\u001b[0m\u001b[0mmax_EI\u001b[0m\u001b[0;34m,\u001b[0m \u001b[0mmax_PI\u001b[0m\u001b[0;34m,\u001b[0m \u001b[0mmax_UCB\u001b[0m\u001b[0;34m]\u001b[0m\u001b[0;34m\u001b[0m\u001b[0;34m\u001b[0m\u001b[0m\n\u001b[0m\u001b[1;32m      2\u001b[0m \u001b[0;34m\u001b[0m\u001b[0m\n\u001b[1;32m      3\u001b[0m \u001b[0;32mfor\u001b[0m \u001b[0mquery_strat\u001b[0m \u001b[0;32min\u001b[0m \u001b[0mquery_strats\u001b[0m\u001b[0;34m:\u001b[0m\u001b[0;34m\u001b[0m\u001b[0;34m\u001b[0m\u001b[0m\n\u001b[1;32m      4\u001b[0m     \u001b[0mX_pool_temp\u001b[0m \u001b[0;34m=\u001b[0m \u001b[0mX_pool\u001b[0m\u001b[0;34m\u001b[0m\u001b[0;34m\u001b[0m\u001b[0m\n\u001b[1;32m      5\u001b[0m     \u001b[0my_pool_temp\u001b[0m \u001b[0;34m=\u001b[0m \u001b[0my_pool\u001b[0m\u001b[0;34m\u001b[0m\u001b[0;34m\u001b[0m\u001b[0m\n",
            "\u001b[0;31mNameError\u001b[0m: name 'max_EI' is not defined"
          ]
        }
      ]
    },
    {
      "cell_type": "markdown",
      "metadata": {
        "id": "_U-wLpnp_2TA",
        "colab_type": "text"
      },
      "source": [
        "**Committee regressor with max std sampling query strategy**\n"
      ]
    },
    {
      "cell_type": "code",
      "metadata": {
        "id": "LBiS2FIVHmC-",
        "colab_type": "code",
        "outputId": "62b2a75d-313b-45e7-b583-dcb2137bab69",
        "colab": {
          "base_uri": "https://localhost:8080/",
          "height": 51
        }
      },
      "source": [
        "kernel1 = RBF(length_scale=1.0, length_scale_bounds=(1e-2, 1e3)) \\\n",
        "     + WhiteKernel(noise_level=1, noise_level_bounds=(1e-10, 1e+1))\n",
        "regressor1 = ActiveLearner(\n",
        "        estimator=GaussianProcessRegressor(kernel=kernel1),\n",
        "        X_training=X_train, y_training=y_train)\n",
        "kernel2 = RBF(length_scale=1.0, length_scale_bounds=(1e-1, 1e2)) \\\n",
        "     + WhiteKernel(noise_level=2, noise_level_bounds=(1e-10, 1e+1))\n",
        "regressor2 = ActiveLearner(\n",
        "        estimator=GaussianProcessRegressor(kernel=kernel2),\n",
        "        X_training=X_train, y_training=y_train)\n",
        "\n",
        "learner_list = [regressor1, regressor2]\n",
        "\n",
        "# initializing the Committee\n",
        "committee = CommitteeRegressor(\n",
        "    learner_list=learner_list,\n",
        "    query_strategy=max_std_sampling\n",
        ")\n",
        "\n",
        "y_pred = committee.predict(X_test)\n",
        "print(mean_squared_error(y_test, y_pred))\n",
        "\n",
        "# active regression\n",
        "n_queries = 100\n",
        "for idx in range(n_queries):\n",
        "    query_idx, query_instance = committee.query(X_pool)\n",
        "    committee.teach(X_pool[query_idx], y_pool[query_idx].reshape(-1, 1))\n",
        "    X_pool = np.delete(X_pool, query_idx, 0)\n",
        "    y_pool = np.delete(y_pool, query_idx, 0)\n",
        "\n",
        "y_pred_final = committee.predict(X_test)\n",
        "print(mean_squared_error(y_test, y_pred_final))"
      ],
      "execution_count": 0,
      "outputs": [
        {
          "output_type": "stream",
          "text": [
            "123.50700210265839\n",
            "91.97028343507245\n"
          ],
          "name": "stdout"
        }
      ]
    },
    {
      "cell_type": "code",
      "metadata": {
        "id": "Is8o3-ogIBr5",
        "colab_type": "code",
        "colab": {}
      },
      "source": [
        ""
      ],
      "execution_count": 0,
      "outputs": []
    },
    {
      "cell_type": "markdown",
      "metadata": {
        "id": "O3PX0_lzkvnX",
        "colab_type": "text"
      },
      "source": [
        "## 3. AL + Keras Integration with sklearn wrapper for classification \n",
        "\n",
        "- MNIST dataset"
      ]
    },
    {
      "cell_type": "code",
      "metadata": {
        "id": "8BPnU36Qk3lI",
        "colab_type": "code",
        "colab": {
          "base_uri": "https://localhost:8080/",
          "height": 173
        },
        "outputId": "fb4cf2d9-c4f2-477e-874b-d75b038a1190"
      },
      "source": [
        "!pip install modAL\n",
        "import keras\n",
        "import numpy as np\n",
        "from keras.datasets import mnist\n",
        "from keras.models import Sequential\n",
        "from keras.layers import Dense, Dropout, Flatten, Conv2D, MaxPooling2D\n",
        "from keras.wrappers.scikit_learn import KerasClassifier\n",
        "from modAL.models import ActiveLearner\n"
      ],
      "execution_count": 2,
      "outputs": [
        {
          "output_type": "stream",
          "text": [
            "Collecting modAL\n",
            "  Downloading https://files.pythonhosted.org/packages/1a/36/9558ec3ee50263f10a47c425b43941a9018eebcbd8a95685cb7b2363704c/modAL-0.3.5-py3-none-any.whl\n",
            "Requirement already satisfied: scikit-learn>=0.18 in /usr/local/lib/python3.6/dist-packages (from modAL) (0.22.2.post1)\n",
            "Requirement already satisfied: numpy>=1.13 in /usr/local/lib/python3.6/dist-packages (from modAL) (1.18.4)\n",
            "Requirement already satisfied: scipy>=0.18 in /usr/local/lib/python3.6/dist-packages (from modAL) (1.4.1)\n",
            "Requirement already satisfied: joblib>=0.11 in /usr/local/lib/python3.6/dist-packages (from scikit-learn>=0.18->modAL) (0.15.1)\n",
            "Installing collected packages: modAL\n",
            "Successfully installed modAL-0.3.5\n"
          ],
          "name": "stdout"
        }
      ]
    },
    {
      "cell_type": "code",
      "metadata": {
        "id": "P4BJ0vIClEQ2",
        "colab_type": "code",
        "colab": {}
      },
      "source": [
        "# build function for the Keras' scikit-learn API\n",
        "def create_keras_model():\n",
        "    \"\"\"\n",
        "    This function compiles and returns a Keras model.\n",
        "    Should be passed to KerasClassifier in the Keras scikit-learn API.\n",
        "    \"\"\"\n",
        "\n",
        "    model = Sequential()\n",
        "    model.add(Conv2D(32, kernel_size=(3, 3), activation='relu', input_shape=(28, 28, 1)))\n",
        "    model.add(Conv2D(64, (3, 3), activation='relu'))\n",
        "    model.add(MaxPooling2D(pool_size=(2, 2)))\n",
        "    model.add(Dropout(0.25))\n",
        "    model.add(Flatten())\n",
        "    model.add(Dense(128, activation='relu'))\n",
        "    model.add(Dropout(0.5))\n",
        "    model.add(Dense(10, activation='softmax'))\n",
        "\n",
        "    model.compile(loss='categorical_crossentropy', optimizer='adadelta', metrics=['accuracy'])\n",
        "\n",
        "    return model\n",
        "  \n",
        "# create the classifier\n",
        "classifier = KerasClassifier(create_keras_model)"
      ],
      "execution_count": 0,
      "outputs": []
    },
    {
      "cell_type": "code",
      "metadata": {
        "id": "OP2GHv8Lk-tB",
        "colab_type": "code",
        "colab": {}
      },
      "source": [
        "# read training data from mnist\n",
        "(X_train, y_train), (X_test, y_test) = mnist.load_data()\n",
        "X_train = X_train.reshape(60000, 28, 28, 1).astype('float32') / 255\n",
        "X_test = X_test.reshape(10000, 28, 28, 1).astype('float32') / 255\n",
        "y_train = keras.utils.to_categorical(y_train, 10)\n",
        "y_test = keras.utils.to_categorical(y_test, 10)\n"
      ],
      "execution_count": 0,
      "outputs": []
    },
    {
      "cell_type": "code",
      "metadata": {
        "id": "HWTeWg-olKmm",
        "colab_type": "code",
        "colab": {
          "base_uri": "https://localhost:8080/",
          "height": 34
        },
        "outputId": "f42882cc-0711-4969-9660-d8b83c3c5b98"
      },
      "source": [
        "n_initial = 1000\n",
        "initial_idx = np.random.choice(range(len(X_train)), size=n_initial, replace=False)\n",
        "# print(initial_idx)\n",
        "\n",
        "X_initial = X_train[initial_idx]\n",
        "y_initial = y_train[initial_idx]\n",
        "\n",
        "print(len(X_initial), len(X_train))"
      ],
      "execution_count": 13,
      "outputs": [
        {
          "output_type": "stream",
          "text": [
            "1000 60000\n"
          ],
          "name": "stdout"
        }
      ]
    },
    {
      "cell_type": "code",
      "metadata": {
        "id": "9wg_g8W7lUrx",
        "colab_type": "code",
        "colab": {}
      },
      "source": [
        "# generate the pool\n",
        "# remove the initial data from the training dataset\n",
        "X_pool = np.delete(X_train, initial_idx, axis=0)\n",
        "y_pool = np.delete(y_train, initial_idx, axis=0)"
      ],
      "execution_count": 0,
      "outputs": []
    },
    {
      "cell_type": "code",
      "metadata": {
        "id": "N2bd0K_zl4YA",
        "colab_type": "code",
        "colab": {
          "base_uri": "https://localhost:8080/",
          "height": 34
        },
        "outputId": "ac865e21-2d44-4be0-bb84-3093736341c3"
      },
      "source": [
        "print(len(X_pool))"
      ],
      "execution_count": 15,
      "outputs": [
        {
          "output_type": "stream",
          "text": [
            "59000\n"
          ],
          "name": "stdout"
        }
      ]
    },
    {
      "cell_type": "code",
      "metadata": {
        "id": "hVfhIvURl78Z",
        "colab_type": "code",
        "colab": {
          "base_uri": "https://localhost:8080/",
          "height": 51
        },
        "outputId": "63df5c41-a55f-4b5c-9d20-fc072149022e"
      },
      "source": [
        "# initialize ActiveLearner\n",
        "learner = ActiveLearner(\n",
        "    estimator=classifier,\n",
        "    X_training=X_initial, y_training=y_initial,\n",
        "    verbose=1\n",
        ")\n",
        "\n",
        "# use 1000 X_initial and y_initial for training \n",
        "# use remaining 59000 for the pool in active learning (\"unlabelled\")\n"
      ],
      "execution_count": 16,
      "outputs": [
        {
          "output_type": "stream",
          "text": [
            "Epoch 1/1\n",
            "1000/1000 [==============================] - 3s 3ms/step - loss: 1.6363 - accuracy: 0.4560\n"
          ],
          "name": "stdout"
        }
      ]
    },
    {
      "cell_type": "code",
      "metadata": {
        "id": "T7QSt012mOrk",
        "colab_type": "code",
        "colab": {
          "base_uri": "https://localhost:8080/",
          "height": 1000
        },
        "outputId": "63dd0cc2-80c7-4c8e-ce36-851c8bb6baca"
      },
      "source": [
        "# the active learning loop\n",
        "n_queries = 10\n",
        "for idx in range(n_queries):\n",
        "    query_idx, query_instance = learner.query(X_pool, n_instances=100, verbose=0)\n",
        "    print(query_idx)\n",
        "    learner.teach(\n",
        "        X=X_pool[query_idx], y=y_pool[query_idx], only_new=True,\n",
        "        verbose=1\n",
        "    )\n",
        "    # remove queried instance from pool\n",
        "    X_pool = np.delete(X_pool, query_idx, axis=0)\n",
        "    y_pool = np.delete(y_pool, query_idx, axis=0)"
      ],
      "execution_count": 17,
      "outputs": [
        {
          "output_type": "stream",
          "text": [
            "[18533 28556  8202 15870 15269 17666 38381 31040 40247 44964 15299 30704\n",
            " 36665 30346 15298 56716 30185  6392 17424 53609 10441 50195 53525 46237\n",
            "  8742 34275 37006 29227 55313 17249 28822 56375 47140 42129 49863  4116\n",
            " 28347 32759 47732  5319 39173  1034 10702 48051 42792  7498   262 23473\n",
            " 37975 42389 35041 16853 26412 44138 15732  2002 14312 30742  3504 11514\n",
            "  3298 51938  6868 24172  5600 57621  9099 43441 53066 41086 45120  5218\n",
            " 40921 40677 12156 12332 20018 10463 12383 47979 37285 30149  3782  7597\n",
            " 11015 18408 57539  9637 53283 23998 13679 32889 25609 34515 56553 10111\n",
            " 18255 55579 53808 10493]\n",
            "Epoch 1/1\n",
            "100/100 [==============================] - 0s 4ms/step - loss: 2.1055 - accuracy: 0.3300\n",
            "[36440 22818  7521 53862 41285 22501 46704 55330 50768 17341 17327 15720\n",
            " 26878 22399 13379 26106 38373 52974 55492 20706 25994 30333  4404 19124\n",
            " 56402 27067 56396 39219 41137 32665 44861 30907 46403 47298 35389 34911\n",
            "  4811 13143 32695 22089 19359 42092 30997 31004 13088 32148 52806 56305\n",
            "   979 32085  5539 19550 28749 56254  7935 25295 49126 27810 17570 25255\n",
            " 37684 19761 12848 53312 55717  9297 10057 16621 33091 51423  5137 28306\n",
            " 48972 53415 52612 33653 13968 35208 37230 21225  3992  5648 21160 29551\n",
            "  1972 40490 54197 47024 34809 14050 26390 34575 40779 32564 20903 32538\n",
            " 38764 36610 12204 23678]\n",
            "Epoch 1/1\n",
            "100/100 [==============================] - 0s 4ms/step - loss: 1.5631 - accuracy: 0.7800\n",
            "[43126 15136 37495 18917 51619 47979 15946 37475 27152 28407 48063   751\n",
            " 25154 49583 12669 17295 41647 44597 29814  1407 48124 20128 52362   156\n",
            "  2376 52334  7600 13629  1990 30671 17572 53807 15787  6592 45097 18669\n",
            " 53853  4969 55791  1344 42268   455 55109  6183  4856 15252  5194 29952\n",
            " 18537 58542 28098 29372 45209 34577 15613 41482 28066 17235 21839 15755\n",
            " 28411  7808  5096 43121 15079  7224 30583  7210 45188 38530  4506 11293\n",
            " 41635 43962 56981 45184 15283 17246 45166 47951 19834 33801 12287 30596\n",
            "  4530 28742 31110  4093 33588 58733 55905 38616 55666 20556 56975 37816\n",
            " 22878 28639 28633 24945]\n",
            "Epoch 1/1\n",
            "100/100 [==============================] - 0s 4ms/step - loss: 1.9914 - accuracy: 0.3100\n",
            "[49799 32368 27667 39772 53476 30813 52160 22337  1056  7403 31832 29685\n",
            " 33835  5974 27484  6495 43155   406 55525 33186 50415 17793 28953 43412\n",
            " 51897 33204  7175 18051 22893 51311 44327 40194 55367 27228  2137  8423\n",
            " 16261 50344  8117  3310 43034 33260 53161  7769 22404  4815 25691 49658\n",
            " 45456 31156 30414 17452 38226 30955 34026 17907  3146 54823 21103  3930\n",
            "  6602 41575  9522 12121 39898 29324 46330 48334 39878 55778 55922    71\n",
            " 53236 12990 24301 26797 32061  7986 25597 33540 15070 16545 34097 38419\n",
            " 32805 18867  7999 32786 40912 38500 38498 34491 33483 34731 13284 27488\n",
            " 14989 40477 45405 19631]\n",
            "Epoch 1/1\n",
            "100/100 [==============================] - 0s 4ms/step - loss: 1.5743 - accuracy: 0.6800\n",
            "[47037 19079     2 49594 42608 13697 37132  7553 40306 10704  3366 24745\n",
            " 21257 53010  1376 29194 30457 29759 25679 33334 49342 15075 47175 27108\n",
            " 16290  4380 56563 23322 52335 40540 54766 41204 49225 51523 56316 41353\n",
            " 39544 52361  7145   803 40149 30911  3658 26903 14194 10374 22992 50926\n",
            " 36775 20609 11623 34793 44925 39598 50489  9484 14516 35119 34473 18321\n",
            "  6840 26027 48380 39644 26002 44536 16727 34895  7184 35100 51952 33509\n",
            " 22566 55359 12126 31035 31055  8182 49469 46172 49645 25015 23794 39726\n",
            " 11942  6553 38077 41607 10273 55932  4815 34100  8184 35550  1160 55346\n",
            " 24411 13950 20294 38796]\n",
            "Epoch 1/1\n",
            "100/100 [==============================] - 0s 4ms/step - loss: 1.9070 - accuracy: 0.4800\n",
            "[21025 43409 15063 57083 46024 18596 34519  8121 22817 29760 15076 27065\n",
            " 18701 10183 17993  1032 51682 30591  4055 11860 57310 12269 46088 57110\n",
            " 57113 37451  1044 22709 56444 38006  3508 54922 32907 45670 38074 36774\n",
            " 15577 26359  7424 29833 51501 48143  7309 30961 55951 23264 16528 51025\n",
            " 29852 36982 32783 35474 55653 44671  5930 35365 17309  7140  7138 41941\n",
            "  8740  3685   449 57248 12942 39048 40441 27780 13547 56622 25944 35089\n",
            " 13044 25813 25922 13448 40747 20334  1618  9059 41452 25866 20646 40892\n",
            " 36659  6618 21217 35007  6582 31402 56678 50765 38785  6408 47793 34901\n",
            " 20899 41126 50743 57716]\n",
            "Epoch 1/1\n",
            "100/100 [==============================] - 0s 4ms/step - loss: 1.4018 - accuracy: 0.6900\n",
            "[50660 40524 41350 51187 18188 41266 27018 43739 11763 46354 45177  2320\n",
            " 31143 29955 45893 19319 42447  8361 41144 37996 52624 19516 11193  2909\n",
            " 54563  8835 43771 31505 21135 32251 32620 31380 35791 53999 47370 48587\n",
            " 48575 21726 45983 14374   751  9120  5349 14372  2878 25467 30285 24466\n",
            " 25179  6687 51823 52763 33195 14213 41878 51795 27031 20277  3921  8441\n",
            " 29735 54939 45913 53328 23269 40758 27875 25882  8741 51575 26751 11295\n",
            " 18346 31470 18178 35987 55076 48532 54415 54459 28101 16971 23638 13653\n",
            " 20572 42693 46251  2488 56369 26723 44523 29119 48066 13707 44639 42896\n",
            " 28549  1802 30044  9397]\n",
            "Epoch 1/1\n",
            "100/100 [==============================] - 0s 4ms/step - loss: 1.7775 - accuracy: 0.5200\n",
            "[50580  3396 12330 51393 44495 20131   260  5940 31033 44629 41199 24979\n",
            " 39538 54827 44652 50268  3145 17977 17930 56300  2250 36384 44694 44721\n",
            "  4860 37299 48497 25813   983 54122 54521 58294 44472 34270 11009 21112\n",
            " 56028  4402 47943 57128 42264 19737 25731 39051  7346  1114 17132 17151\n",
            " 43628 39004 55417  7145  9675 53572 51520 28785  3141 50072  8163  4274\n",
            " 41774 10209 56913 38340  1090  9158 55287  8405 36648 40587 36892  7225\n",
            " 44780 24725 56092 28723 19886 46431 18488 22597 56903 23046 25945 54668\n",
            " 32474 53814 11187  1603 54722 40526 37335 40543 33725 56885 16253 50555\n",
            " 32429  4981 29785 16273]\n",
            "Epoch 1/1\n",
            "100/100 [==============================] - 0s 4ms/step - loss: 1.4949 - accuracy: 0.7800\n",
            "[56176 21461 29073 44238 41497 13726 26060 38855  5377 24557 40371 35966\n",
            " 39560  8311 34428 19114 39550 37162 39258 21522 32012 51740 17100 21534\n",
            "   662 44176 26661 15186 22626  7641 34905 25848  5249 48363 48364 25833\n",
            " 21921 17708 12001 40772 40629 31715 18537 42930 32732  4296 49636 46992\n",
            " 52532 45606 21595 15121 36426 41087 48404 56159  2415 26964  7738 49618\n",
            "  5172  4559 26378 31948 49986 27515 29706 40752 20207 30241  8164  3153\n",
            " 49181 23797 53208 24208 11591  5786 46965 54338 45312 41310 35335 42043\n",
            "  7014 25716  7309  3190 30154 27998 48348 31296 38676 48567 51666 24418\n",
            " 14636 49988 39763 48536]\n",
            "Epoch 1/1\n",
            "100/100 [==============================] - 0s 4ms/step - loss: 1.8063 - accuracy: 0.4300\n",
            "[41135 52110 14447 42191 32352 46548 18886 25056 15709 54800 20165 31859\n",
            " 33450 37795 31720 25324 31659 40208 31393  5402 11683  7264 25770 25974\n",
            "  3838 50962 31033 52705 47586 16106 54936 17433 11266 19271 36997 50127\n",
            "  2883 27436 55198 39777 36451 40430  6612 43867 49965  1656 30411 34405\n",
            " 27997 55057 56021 14678 53475 28638  9044 48453 29981 35344 13607 10319\n",
            " 56117 53731 21481  4863 28066  5997 16166 26651    98 31701 54472 24201\n",
            " 50713 45237  6804 34658   352 15236 23343 15403 37125 12415 34019 12126\n",
            "  6824 31219 54864 10923 36457  6583 52025 45067 39111 27144 21299 28657\n",
            " 10044 54328 34247  8810]\n",
            "Epoch 1/1\n",
            "100/100 [==============================] - 0s 4ms/step - loss: 1.6901 - accuracy: 0.7000\n"
          ],
          "name": "stdout"
        }
      ]
    },
    {
      "cell_type": "markdown",
      "metadata": {
        "id": "YNHbKcsvmUS1",
        "colab_type": "text"
      },
      "source": [
        ""
      ]
    },
    {
      "cell_type": "code",
      "metadata": {
        "id": "uUIKraoKn6kY",
        "colab_type": "code",
        "colab": {
          "base_uri": "https://localhost:8080/",
          "height": 51
        },
        "outputId": "52122c41-fa7e-4ba0-ae19-91987bb45fe3"
      },
      "source": [
        "# the final accuracy score\n",
        "print(learner.score(X_test, y_test, verbose=1))"
      ],
      "execution_count": 18,
      "outputs": [
        {
          "output_type": "stream",
          "text": [
            "10000/10000 [==============================] - 6s 627us/step\n",
            "0.11349999904632568\n"
          ],
          "name": "stdout"
        }
      ]
    },
    {
      "cell_type": "code",
      "metadata": {
        "id": "NsIjVSDCn7Bw",
        "colab_type": "code",
        "colab": {
          "base_uri": "https://localhost:8080/",
          "height": 34
        },
        "outputId": "df10784f-8e66-413c-a4f0-e57760636482"
      },
      "source": [
        "len(X_test)"
      ],
      "execution_count": 38,
      "outputs": [
        {
          "output_type": "execute_result",
          "data": {
            "text/plain": [
              "10000"
            ]
          },
          "metadata": {
            "tags": []
          },
          "execution_count": 38
        }
      ]
    },
    {
      "cell_type": "code",
      "metadata": {
        "id": "2r0dBs8dqkgO",
        "colab_type": "code",
        "colab": {
          "base_uri": "https://localhost:8080/",
          "height": 34
        },
        "outputId": "8959e654-c920-4d34-b63d-a065ae0c6d70"
      },
      "source": [
        "# 70000 total\n",
        "# 1000 initial\n",
        "# 59000 pool AL\n",
        "# 10000 test \n",
        "print(1000/70000, 59000/70000, 10000/70000)"
      ],
      "execution_count": 39,
      "outputs": [
        {
          "output_type": "stream",
          "text": [
            "0.014285714285714285 0.8428571428571429 0.14285714285714285\n"
          ],
          "name": "stdout"
        }
      ]
    },
    {
      "cell_type": "markdown",
      "metadata": {
        "id": "R2jEZrxDqkpp",
        "colab_type": "text"
      },
      "source": [
        "##4. AL + Keras Integration with sklearn wrapper for regression\n",
        "- https://www.tensorflow.org/tutorials/keras/regression\n",
        "- https://github.com/modAL-python/modAL/blob/master/examples/keras_integration.py"
      ]
    },
    {
      "cell_type": "code",
      "metadata": {
        "id": "Uuohz5kDqq04",
        "colab_type": "code",
        "colab": {
          "base_uri": "https://localhost:8080/",
          "height": 88
        },
        "outputId": "48e6d6e9-e985-4560-83c4-9513d0c4adc6"
      },
      "source": [
        "# Use seaborn for pairplot\n",
        "!pip install -q seaborn\n",
        "# Use some functions from tensorflow_docs\n",
        "!pip install -q git+https://github.com/tensorflow/docs\n",
        "import pathlib\n",
        "\n",
        "import matplotlib.pyplot as plt\n",
        "import numpy as np\n",
        "import pandas as pd\n",
        "import seaborn as sns\n",
        "import tensorflow as tf\n",
        "from tensorflow import keras\n",
        "from tensorflow.keras import layers\n"
      ],
      "execution_count": 19,
      "outputs": [
        {
          "output_type": "stream",
          "text": [
            "  Building wheel for tensorflow-docs (setup.py) ... \u001b[?25l\u001b[?25hdone\n"
          ],
          "name": "stdout"
        },
        {
          "output_type": "stream",
          "text": [
            "/usr/local/lib/python3.6/dist-packages/statsmodels/tools/_testing.py:19: FutureWarning: pandas.util.testing is deprecated. Use the functions in the public API at pandas.testing instead.\n",
            "  import pandas.util.testing as tm\n"
          ],
          "name": "stderr"
        }
      ]
    },
    {
      "cell_type": "code",
      "metadata": {
        "id": "czIoSIGnqyWI",
        "colab_type": "code",
        "colab": {
          "base_uri": "https://localhost:8080/",
          "height": 238
        },
        "outputId": "1536727b-dcd9-4fca-b6be-11fd2057b1d2"
      },
      "source": [
        "import tensorflow_docs as tfdocs\n",
        "import tensorflow_docs.plots\n",
        "import tensorflow_docs.modeling\n",
        "dataset_path = keras.utils.get_file(\"auto-mpg.data\", \"http://archive.ics.uci.edu/ml/machine-learning-databases/auto-mpg/auto-mpg.data\")\n",
        "dataset_path\n",
        "column_names = ['MPG','Cylinders','Displacement','Horsepower','Weight',\n",
        "                'Acceleration', 'Model Year', 'Origin']\n",
        "raw_dataset = pd.read_csv(dataset_path, names=column_names,\n",
        "                      na_values = \"?\", comment='\\t',\n",
        "                      sep=\" \", skipinitialspace=True)\n",
        "dataset = raw_dataset.copy()\n",
        "dataset.tail()"
      ],
      "execution_count": 20,
      "outputs": [
        {
          "output_type": "stream",
          "text": [
            "Downloading data from http://archive.ics.uci.edu/ml/machine-learning-databases/auto-mpg/auto-mpg.data\n",
            "32768/30286 [================================] - 0s 2us/step\n"
          ],
          "name": "stdout"
        },
        {
          "output_type": "execute_result",
          "data": {
            "text/html": [
              "<div>\n",
              "<style scoped>\n",
              "    .dataframe tbody tr th:only-of-type {\n",
              "        vertical-align: middle;\n",
              "    }\n",
              "\n",
              "    .dataframe tbody tr th {\n",
              "        vertical-align: top;\n",
              "    }\n",
              "\n",
              "    .dataframe thead th {\n",
              "        text-align: right;\n",
              "    }\n",
              "</style>\n",
              "<table border=\"1\" class=\"dataframe\">\n",
              "  <thead>\n",
              "    <tr style=\"text-align: right;\">\n",
              "      <th></th>\n",
              "      <th>MPG</th>\n",
              "      <th>Cylinders</th>\n",
              "      <th>Displacement</th>\n",
              "      <th>Horsepower</th>\n",
              "      <th>Weight</th>\n",
              "      <th>Acceleration</th>\n",
              "      <th>Model Year</th>\n",
              "      <th>Origin</th>\n",
              "    </tr>\n",
              "  </thead>\n",
              "  <tbody>\n",
              "    <tr>\n",
              "      <th>393</th>\n",
              "      <td>27.0</td>\n",
              "      <td>4</td>\n",
              "      <td>140.0</td>\n",
              "      <td>86.0</td>\n",
              "      <td>2790.0</td>\n",
              "      <td>15.6</td>\n",
              "      <td>82</td>\n",
              "      <td>1</td>\n",
              "    </tr>\n",
              "    <tr>\n",
              "      <th>394</th>\n",
              "      <td>44.0</td>\n",
              "      <td>4</td>\n",
              "      <td>97.0</td>\n",
              "      <td>52.0</td>\n",
              "      <td>2130.0</td>\n",
              "      <td>24.6</td>\n",
              "      <td>82</td>\n",
              "      <td>2</td>\n",
              "    </tr>\n",
              "    <tr>\n",
              "      <th>395</th>\n",
              "      <td>32.0</td>\n",
              "      <td>4</td>\n",
              "      <td>135.0</td>\n",
              "      <td>84.0</td>\n",
              "      <td>2295.0</td>\n",
              "      <td>11.6</td>\n",
              "      <td>82</td>\n",
              "      <td>1</td>\n",
              "    </tr>\n",
              "    <tr>\n",
              "      <th>396</th>\n",
              "      <td>28.0</td>\n",
              "      <td>4</td>\n",
              "      <td>120.0</td>\n",
              "      <td>79.0</td>\n",
              "      <td>2625.0</td>\n",
              "      <td>18.6</td>\n",
              "      <td>82</td>\n",
              "      <td>1</td>\n",
              "    </tr>\n",
              "    <tr>\n",
              "      <th>397</th>\n",
              "      <td>31.0</td>\n",
              "      <td>4</td>\n",
              "      <td>119.0</td>\n",
              "      <td>82.0</td>\n",
              "      <td>2720.0</td>\n",
              "      <td>19.4</td>\n",
              "      <td>82</td>\n",
              "      <td>1</td>\n",
              "    </tr>\n",
              "  </tbody>\n",
              "</table>\n",
              "</div>"
            ],
            "text/plain": [
              "      MPG  Cylinders  Displacement  ...  Acceleration  Model Year  Origin\n",
              "393  27.0          4         140.0  ...          15.6          82       1\n",
              "394  44.0          4          97.0  ...          24.6          82       2\n",
              "395  32.0          4         135.0  ...          11.6          82       1\n",
              "396  28.0          4         120.0  ...          18.6          82       1\n",
              "397  31.0          4         119.0  ...          19.4          82       1\n",
              "\n",
              "[5 rows x 8 columns]"
            ]
          },
          "metadata": {
            "tags": []
          },
          "execution_count": 20
        }
      ]
    },
    {
      "cell_type": "code",
      "metadata": {
        "id": "UdFI27kDq5_U",
        "colab_type": "code",
        "colab": {}
      },
      "source": [
        "dataset.isna().sum()\n",
        "dataset = dataset.dropna()"
      ],
      "execution_count": 0,
      "outputs": []
    },
    {
      "cell_type": "code",
      "metadata": {
        "id": "PGd5a12Dq7Dx",
        "colab_type": "code",
        "colab": {
          "base_uri": "https://localhost:8080/",
          "height": 204
        },
        "outputId": "fb6bd534-364e-4bb7-c522-5fdc859a6fc2"
      },
      "source": [
        "dataset['Origin'] = dataset['Origin'].map({1: 'USA', 2: 'Europe', 3: 'Japan'})\n",
        "dataset = pd.get_dummies(dataset, prefix='', prefix_sep='')\n",
        "dataset.tail()"
      ],
      "execution_count": 24,
      "outputs": [
        {
          "output_type": "execute_result",
          "data": {
            "text/html": [
              "<div>\n",
              "<style scoped>\n",
              "    .dataframe tbody tr th:only-of-type {\n",
              "        vertical-align: middle;\n",
              "    }\n",
              "\n",
              "    .dataframe tbody tr th {\n",
              "        vertical-align: top;\n",
              "    }\n",
              "\n",
              "    .dataframe thead th {\n",
              "        text-align: right;\n",
              "    }\n",
              "</style>\n",
              "<table border=\"1\" class=\"dataframe\">\n",
              "  <thead>\n",
              "    <tr style=\"text-align: right;\">\n",
              "      <th></th>\n",
              "      <th>MPG</th>\n",
              "      <th>Cylinders</th>\n",
              "      <th>Displacement</th>\n",
              "      <th>Horsepower</th>\n",
              "      <th>Weight</th>\n",
              "      <th>Acceleration</th>\n",
              "      <th>Model Year</th>\n",
              "    </tr>\n",
              "  </thead>\n",
              "  <tbody>\n",
              "    <tr>\n",
              "      <th>393</th>\n",
              "      <td>27.0</td>\n",
              "      <td>4</td>\n",
              "      <td>140.0</td>\n",
              "      <td>86.0</td>\n",
              "      <td>2790.0</td>\n",
              "      <td>15.6</td>\n",
              "      <td>82</td>\n",
              "    </tr>\n",
              "    <tr>\n",
              "      <th>394</th>\n",
              "      <td>44.0</td>\n",
              "      <td>4</td>\n",
              "      <td>97.0</td>\n",
              "      <td>52.0</td>\n",
              "      <td>2130.0</td>\n",
              "      <td>24.6</td>\n",
              "      <td>82</td>\n",
              "    </tr>\n",
              "    <tr>\n",
              "      <th>395</th>\n",
              "      <td>32.0</td>\n",
              "      <td>4</td>\n",
              "      <td>135.0</td>\n",
              "      <td>84.0</td>\n",
              "      <td>2295.0</td>\n",
              "      <td>11.6</td>\n",
              "      <td>82</td>\n",
              "    </tr>\n",
              "    <tr>\n",
              "      <th>396</th>\n",
              "      <td>28.0</td>\n",
              "      <td>4</td>\n",
              "      <td>120.0</td>\n",
              "      <td>79.0</td>\n",
              "      <td>2625.0</td>\n",
              "      <td>18.6</td>\n",
              "      <td>82</td>\n",
              "    </tr>\n",
              "    <tr>\n",
              "      <th>397</th>\n",
              "      <td>31.0</td>\n",
              "      <td>4</td>\n",
              "      <td>119.0</td>\n",
              "      <td>82.0</td>\n",
              "      <td>2720.0</td>\n",
              "      <td>19.4</td>\n",
              "      <td>82</td>\n",
              "    </tr>\n",
              "  </tbody>\n",
              "</table>\n",
              "</div>"
            ],
            "text/plain": [
              "      MPG  Cylinders  Displacement  ...  Weight  Acceleration  Model Year\n",
              "393  27.0          4         140.0  ...  2790.0          15.6          82\n",
              "394  44.0          4          97.0  ...  2130.0          24.6          82\n",
              "395  32.0          4         135.0  ...  2295.0          11.6          82\n",
              "396  28.0          4         120.0  ...  2625.0          18.6          82\n",
              "397  31.0          4         119.0  ...  2720.0          19.4          82\n",
              "\n",
              "[5 rows x 7 columns]"
            ]
          },
          "metadata": {
            "tags": []
          },
          "execution_count": 24
        }
      ]
    },
    {
      "cell_type": "code",
      "metadata": {
        "id": "xt5R1kNqq9OH",
        "colab_type": "code",
        "colab": {}
      },
      "source": [
        "train_dataset = dataset.sample(frac=0.8,random_state=0)\n",
        "test_dataset = dataset.drop(train_dataset.index)"
      ],
      "execution_count": 0,
      "outputs": []
    },
    {
      "cell_type": "code",
      "metadata": {
        "id": "50PXcN-_rCfk",
        "colab_type": "code",
        "colab": {
          "base_uri": "https://localhost:8080/",
          "height": 764
        },
        "outputId": "d252e952-ed86-4eee-f6c1-b55b15d22f7d"
      },
      "source": [
        "sns.pairplot(train_dataset[[\"MPG\", \"Cylinders\", \"Displacement\", \"Weight\"]], diag_kind=\"kde\")\n"
      ],
      "execution_count": 26,
      "outputs": [
        {
          "output_type": "execute_result",
          "data": {
            "text/plain": [
              "<seaborn.axisgrid.PairGrid at 0x7f31d240bc18>"
            ]
          },
          "metadata": {
            "tags": []
          },
          "execution_count": 26
        },
        {
          "output_type": "display_data",
          "data": {
            "image/png": "[encoded data removed]",
            "text/plain": [
              "<Figure size 720x720 with 20 Axes>"
            ]
          },
          "metadata": {
            "tags": [],
            "needs_background": "light"
          }
        }
      ]
    },
    {
      "cell_type": "code",
      "metadata": {
        "id": "DkgpMsaGrEP7",
        "colab_type": "code",
        "colab": {
          "base_uri": "https://localhost:8080/",
          "height": 235
        },
        "outputId": "1dd72867-86cd-4b1f-9ac5-90adf1d46b4f"
      },
      "source": [
        "train_stats = train_dataset.describe()\n",
        "train_stats.pop(\"MPG\")\n",
        "train_stats = train_stats.transpose()\n",
        "train_stats"
      ],
      "execution_count": 27,
      "outputs": [
        {
          "output_type": "execute_result",
          "data": {
            "text/html": [
              "<div>\n",
              "<style scoped>\n",
              "    .dataframe tbody tr th:only-of-type {\n",
              "        vertical-align: middle;\n",
              "    }\n",
              "\n",
              "    .dataframe tbody tr th {\n",
              "        vertical-align: top;\n",
              "    }\n",
              "\n",
              "    .dataframe thead th {\n",
              "        text-align: right;\n",
              "    }\n",
              "</style>\n",
              "<table border=\"1\" class=\"dataframe\">\n",
              "  <thead>\n",
              "    <tr style=\"text-align: right;\">\n",
              "      <th></th>\n",
              "      <th>count</th>\n",
              "      <th>mean</th>\n",
              "      <th>std</th>\n",
              "      <th>min</th>\n",
              "      <th>25%</th>\n",
              "      <th>50%</th>\n",
              "      <th>75%</th>\n",
              "      <th>max</th>\n",
              "    </tr>\n",
              "  </thead>\n",
              "  <tbody>\n",
              "    <tr>\n",
              "      <th>Cylinders</th>\n",
              "      <td>314.0</td>\n",
              "      <td>5.477707</td>\n",
              "      <td>1.699788</td>\n",
              "      <td>3.0</td>\n",
              "      <td>4.00</td>\n",
              "      <td>4.0</td>\n",
              "      <td>8.00</td>\n",
              "      <td>8.0</td>\n",
              "    </tr>\n",
              "    <tr>\n",
              "      <th>Displacement</th>\n",
              "      <td>314.0</td>\n",
              "      <td>195.318471</td>\n",
              "      <td>104.331589</td>\n",
              "      <td>68.0</td>\n",
              "      <td>105.50</td>\n",
              "      <td>151.0</td>\n",
              "      <td>265.75</td>\n",
              "      <td>455.0</td>\n",
              "    </tr>\n",
              "    <tr>\n",
              "      <th>Horsepower</th>\n",
              "      <td>314.0</td>\n",
              "      <td>104.869427</td>\n",
              "      <td>38.096214</td>\n",
              "      <td>46.0</td>\n",
              "      <td>76.25</td>\n",
              "      <td>94.5</td>\n",
              "      <td>128.00</td>\n",
              "      <td>225.0</td>\n",
              "    </tr>\n",
              "    <tr>\n",
              "      <th>Weight</th>\n",
              "      <td>314.0</td>\n",
              "      <td>2990.251592</td>\n",
              "      <td>843.898596</td>\n",
              "      <td>1649.0</td>\n",
              "      <td>2256.50</td>\n",
              "      <td>2822.5</td>\n",
              "      <td>3608.00</td>\n",
              "      <td>5140.0</td>\n",
              "    </tr>\n",
              "    <tr>\n",
              "      <th>Acceleration</th>\n",
              "      <td>314.0</td>\n",
              "      <td>15.559236</td>\n",
              "      <td>2.789230</td>\n",
              "      <td>8.0</td>\n",
              "      <td>13.80</td>\n",
              "      <td>15.5</td>\n",
              "      <td>17.20</td>\n",
              "      <td>24.8</td>\n",
              "    </tr>\n",
              "    <tr>\n",
              "      <th>Model Year</th>\n",
              "      <td>314.0</td>\n",
              "      <td>75.898089</td>\n",
              "      <td>3.675642</td>\n",
              "      <td>70.0</td>\n",
              "      <td>73.00</td>\n",
              "      <td>76.0</td>\n",
              "      <td>79.00</td>\n",
              "      <td>82.0</td>\n",
              "    </tr>\n",
              "  </tbody>\n",
              "</table>\n",
              "</div>"
            ],
            "text/plain": [
              "              count         mean         std  ...     50%      75%     max\n",
              "Cylinders     314.0     5.477707    1.699788  ...     4.0     8.00     8.0\n",
              "Displacement  314.0   195.318471  104.331589  ...   151.0   265.75   455.0\n",
              "Horsepower    314.0   104.869427   38.096214  ...    94.5   128.00   225.0\n",
              "Weight        314.0  2990.251592  843.898596  ...  2822.5  3608.00  5140.0\n",
              "Acceleration  314.0    15.559236    2.789230  ...    15.5    17.20    24.8\n",
              "Model Year    314.0    75.898089    3.675642  ...    76.0    79.00    82.0\n",
              "\n",
              "[6 rows x 8 columns]"
            ]
          },
          "metadata": {
            "tags": []
          },
          "execution_count": 27
        }
      ]
    },
    {
      "cell_type": "code",
      "metadata": {
        "id": "qFC-PDjKrJGD",
        "colab_type": "code",
        "colab": {}
      },
      "source": [
        "train_labels = train_dataset.pop('MPG')\n",
        "test_labels = test_dataset.pop('MPG')"
      ],
      "execution_count": 0,
      "outputs": []
    },
    {
      "cell_type": "code",
      "metadata": {
        "id": "RXms8hhErKOd",
        "colab_type": "code",
        "colab": {}
      },
      "source": [
        "def norm(x):\n",
        "  return (x - train_stats['mean']) / train_stats['std']\n",
        "normed_train_data = norm(train_dataset)\n",
        "normed_test_data = norm(test_dataset)\n"
      ],
      "execution_count": 0,
      "outputs": []
    },
    {
      "cell_type": "code",
      "metadata": {
        "id": "NPiWote-wQL6",
        "colab_type": "code",
        "colab": {
          "base_uri": "https://localhost:8080/",
          "height": 34
        },
        "outputId": "0c2c1746-2de7-4de1-e254-2ab95100443e"
      },
      "source": [
        "# 2, 78, 20\n",
        "\n",
        "len(normed_train_data), len(normed_test_data), len(dataset)"
      ],
      "execution_count": 45,
      "outputs": [
        {
          "output_type": "execute_result",
          "data": {
            "text/plain": [
              "(314, 78, 392)"
            ]
          },
          "metadata": {
            "tags": []
          },
          "execution_count": 45
        }
      ]
    },
    {
      "cell_type": "markdown",
      "metadata": {
        "id": "eyfxqA8LwjJj",
        "colab_type": "text"
      },
      "source": [
        "initial, pool, test\n",
        "- 14, 300, 78"
      ]
    },
    {
      "cell_type": "code",
      "metadata": {
        "id": "w5Wub6iMwvTN",
        "colab_type": "code",
        "colab": {}
      },
      "source": [
        "# data further processing split train to initial and pooling\n",
        "X_initial = normed_train_data[:14]\n",
        "y_initial = train_labels[:14]\n",
        "X_pool = normed_train_data[14:]\n",
        "y_pool = train_labels[14:]\n",
        "X_test = test_dataset\n",
        "y_test = test_labels"
      ],
      "execution_count": 0,
      "outputs": []
    },
    {
      "cell_type": "code",
      "metadata": {
        "id": "WV2CelFmrLz4",
        "colab_type": "code",
        "colab": {
          "base_uri": "https://localhost:8080/",
          "height": 255
        },
        "outputId": "acba0839-890e-4300-d92d-33be755e8313"
      },
      "source": [
        "def build_keras_regressor_model():\n",
        "  model = keras.Sequential([\n",
        "    layers.Dense(64, activation='relu', input_shape=[len(train_dataset.keys())]),\n",
        "    layers.Dense(64, activation='relu'),\n",
        "    layers.Dense(1)\n",
        "  ])\n",
        "\n",
        "  optimizer = tf.keras.optimizers.RMSprop(0.001)\n",
        "\n",
        "  model.compile(loss='mse',\n",
        "                optimizer=optimizer,\n",
        "                metrics=['mae', 'mse'])\n",
        "  return model\n",
        "model = build_keras_regressor_model()\n",
        "model.summary()"
      ],
      "execution_count": 60,
      "outputs": [
        {
          "output_type": "stream",
          "text": [
            "Model: \"sequential_2\"\n",
            "_________________________________________________________________\n",
            "Layer (type)                 Output Shape              Param #   \n",
            "=================================================================\n",
            "dense_6 (Dense)              (None, 64)                448       \n",
            "_________________________________________________________________\n",
            "dense_7 (Dense)              (None, 64)                4160      \n",
            "_________________________________________________________________\n",
            "dense_8 (Dense)              (None, 1)                 65        \n",
            "=================================================================\n",
            "Total params: 4,673\n",
            "Trainable params: 4,673\n",
            "Non-trainable params: 0\n",
            "_________________________________________________________________\n"
          ],
          "name": "stdout"
        }
      ]
    },
    {
      "cell_type": "code",
      "metadata": {
        "id": "IaA5J63lrOcz",
        "colab_type": "code",
        "colab": {}
      },
      "source": [
        "from keras.wrappers.scikit_learn import KerasRegressor\n",
        "from modAL.models import ActiveLearner\n"
      ],
      "execution_count": 0,
      "outputs": []
    },
    {
      "cell_type": "code",
      "metadata": {
        "id": "lIa2QhGhrcwa",
        "colab_type": "code",
        "colab": {}
      },
      "source": [
        "# create the regressor from the function\n",
        "regressor = KerasRegressor(build_keras_regressor_model)"
      ],
      "execution_count": 0,
      "outputs": []
    },
    {
      "cell_type": "code",
      "metadata": {
        "id": "8gzcllrbreeL",
        "colab_type": "code",
        "colab": {
          "base_uri": "https://localhost:8080/",
          "height": 34
        },
        "outputId": "dd1204ef-8e5a-4057-d499-343bf980c782"
      },
      "source": [
        "# initialize ActiveLearner\n",
        "learner = ActiveLearner(\n",
        "    estimator=regressor,\n",
        "    X_training=X_initial, y_training=y_initial,\n",
        "    verbose=1\n",
        ")"
      ],
      "execution_count": 64,
      "outputs": [
        {
          "output_type": "stream",
          "text": [
            "1/1 [==============================] - 0s 1ms/step - loss: 666.8597 - mae: 24.3765 - mse: 666.8597\n"
          ],
          "name": "stdout"
        }
      ]
    },
    {
      "cell_type": "code",
      "metadata": {
        "id": "jo1av-Scrl9C",
        "colab_type": "code",
        "colab": {
          "base_uri": "https://localhost:8080/",
          "height": 395
        },
        "outputId": "181934ad-172e-4759-95d0-4c805843f82a"
      },
      "source": [
        "# the active learning loop\n",
        "n_queries = 50\n",
        "for idx in range(n_queries):\n",
        "    query_idx, query_instance = learner.query(X_pool, verbose=0)\n",
        "    learner.teach(\n",
        "        X=X_pool[query_idx], y=y_pool[query_idx], only_new=True,\n",
        "        verbose=1\n",
        "    )\n",
        "\n",
        "# the final accuracy score\n",
        "print(learner.score(X_test, y_test, verbose=1))"
      ],
      "execution_count": 66,
      "outputs": [
        {
          "output_type": "error",
          "ename": "AttributeError",
          "evalue": "ignored",
          "traceback": [
            "\u001b[0;31m---------------------------------------------------------------------------\u001b[0m",
            "\u001b[0;31mAttributeError\u001b[0m                            Traceback (most recent call last)",
            "\u001b[0;32m<ipython-input-66-9905bde525ff>\u001b[0m in \u001b[0;36m<module>\u001b[0;34m()\u001b[0m\n\u001b[1;32m      2\u001b[0m \u001b[0mn_queries\u001b[0m \u001b[0;34m=\u001b[0m \u001b[0;36m50\u001b[0m\u001b[0;34m\u001b[0m\u001b[0;34m\u001b[0m\u001b[0m\n\u001b[1;32m      3\u001b[0m \u001b[0;32mfor\u001b[0m \u001b[0midx\u001b[0m \u001b[0;32min\u001b[0m \u001b[0mrange\u001b[0m\u001b[0;34m(\u001b[0m\u001b[0mn_queries\u001b[0m\u001b[0;34m)\u001b[0m\u001b[0;34m:\u001b[0m\u001b[0;34m\u001b[0m\u001b[0;34m\u001b[0m\u001b[0m\n\u001b[0;32m----> 4\u001b[0;31m     \u001b[0mquery_idx\u001b[0m\u001b[0;34m,\u001b[0m \u001b[0mquery_instance\u001b[0m \u001b[0;34m=\u001b[0m \u001b[0mlearner\u001b[0m\u001b[0;34m.\u001b[0m\u001b[0mquery\u001b[0m\u001b[0;34m(\u001b[0m\u001b[0mX_pool\u001b[0m\u001b[0;34m,\u001b[0m \u001b[0mverbose\u001b[0m\u001b[0;34m=\u001b[0m\u001b[0;36m0\u001b[0m\u001b[0;34m)\u001b[0m\u001b[0;34m\u001b[0m\u001b[0;34m\u001b[0m\u001b[0m\n\u001b[0m\u001b[1;32m      5\u001b[0m     learner.teach(\n\u001b[1;32m      6\u001b[0m         \u001b[0mX\u001b[0m\u001b[0;34m=\u001b[0m\u001b[0mX_pool\u001b[0m\u001b[0;34m[\u001b[0m\u001b[0mquery_idx\u001b[0m\u001b[0;34m]\u001b[0m\u001b[0;34m,\u001b[0m \u001b[0my\u001b[0m\u001b[0;34m=\u001b[0m\u001b[0my_pool\u001b[0m\u001b[0;34m[\u001b[0m\u001b[0mquery_idx\u001b[0m\u001b[0;34m]\u001b[0m\u001b[0;34m,\u001b[0m \u001b[0monly_new\u001b[0m\u001b[0;34m=\u001b[0m\u001b[0;32mTrue\u001b[0m\u001b[0;34m,\u001b[0m\u001b[0;34m\u001b[0m\u001b[0;34m\u001b[0m\u001b[0m\n",
            "\u001b[0;32m/usr/local/lib/python3.6/dist-packages/modAL/models/base.py\u001b[0m in \u001b[0;36mquery\u001b[0;34m(self, *query_args, **query_kwargs)\u001b[0m\n\u001b[1;32m    201\u001b[0m             \u001b[0mlabelled\u001b[0m \u001b[0mupon\u001b[0m \u001b[0mquery\u001b[0m \u001b[0msynthesis\u001b[0m\u001b[0;34m.\u001b[0m\u001b[0;34m\u001b[0m\u001b[0;34m\u001b[0m\u001b[0m\n\u001b[1;32m    202\u001b[0m         \"\"\"\n\u001b[0;32m--> 203\u001b[0;31m         \u001b[0mquery_result\u001b[0m \u001b[0;34m=\u001b[0m \u001b[0mself\u001b[0m\u001b[0;34m.\u001b[0m\u001b[0mquery_strategy\u001b[0m\u001b[0;34m(\u001b[0m\u001b[0mself\u001b[0m\u001b[0;34m,\u001b[0m \u001b[0;34m*\u001b[0m\u001b[0mquery_args\u001b[0m\u001b[0;34m,\u001b[0m \u001b[0;34m**\u001b[0m\u001b[0mquery_kwargs\u001b[0m\u001b[0;34m)\u001b[0m\u001b[0;34m\u001b[0m\u001b[0;34m\u001b[0m\u001b[0m\n\u001b[0m\u001b[1;32m    204\u001b[0m         \u001b[0;32mreturn\u001b[0m \u001b[0mquery_result\u001b[0m\u001b[0;34m\u001b[0m\u001b[0;34m\u001b[0m\u001b[0m\n\u001b[1;32m    205\u001b[0m \u001b[0;34m\u001b[0m\u001b[0m\n",
            "\u001b[0;32m/usr/local/lib/python3.6/dist-packages/modAL/uncertainty.py\u001b[0m in \u001b[0;36muncertainty_sampling\u001b[0;34m(classifier, X, n_instances, random_tie_break, **uncertainty_measure_kwargs)\u001b[0m\n\u001b[1;32m    150\u001b[0m         \u001b[0mthe\u001b[0m \u001b[0minstances\u001b[0m \u001b[0;32mfrom\u001b[0m \u001b[0mX\u001b[0m \u001b[0mchosen\u001b[0m \u001b[0mto\u001b[0m \u001b[0mbe\u001b[0m \u001b[0mlabelled\u001b[0m\u001b[0;34m.\u001b[0m\u001b[0;34m\u001b[0m\u001b[0;34m\u001b[0m\u001b[0m\n\u001b[1;32m    151\u001b[0m     \"\"\"\n\u001b[0;32m--> 152\u001b[0;31m     \u001b[0muncertainty\u001b[0m \u001b[0;34m=\u001b[0m \u001b[0mclassifier_uncertainty\u001b[0m\u001b[0;34m(\u001b[0m\u001b[0mclassifier\u001b[0m\u001b[0;34m,\u001b[0m \u001b[0mX\u001b[0m\u001b[0;34m,\u001b[0m \u001b[0;34m**\u001b[0m\u001b[0muncertainty_measure_kwargs\u001b[0m\u001b[0;34m)\u001b[0m\u001b[0;34m\u001b[0m\u001b[0;34m\u001b[0m\u001b[0m\n\u001b[0m\u001b[1;32m    153\u001b[0m \u001b[0;34m\u001b[0m\u001b[0m\n\u001b[1;32m    154\u001b[0m     \u001b[0;32mif\u001b[0m \u001b[0;32mnot\u001b[0m \u001b[0mrandom_tie_break\u001b[0m\u001b[0;34m:\u001b[0m\u001b[0;34m\u001b[0m\u001b[0;34m\u001b[0m\u001b[0m\n",
            "\u001b[0;32m/usr/local/lib/python3.6/dist-packages/modAL/uncertainty.py\u001b[0m in \u001b[0;36mclassifier_uncertainty\u001b[0;34m(classifier, X, **predict_proba_kwargs)\u001b[0m\n\u001b[1;32m     75\u001b[0m     \u001b[0;31m# calculate uncertainty for each point provided\u001b[0m\u001b[0;34m\u001b[0m\u001b[0;34m\u001b[0m\u001b[0;34m\u001b[0m\u001b[0m\n\u001b[1;32m     76\u001b[0m     \u001b[0;32mtry\u001b[0m\u001b[0;34m:\u001b[0m\u001b[0;34m\u001b[0m\u001b[0;34m\u001b[0m\u001b[0m\n\u001b[0;32m---> 77\u001b[0;31m         \u001b[0mclasswise_uncertainty\u001b[0m \u001b[0;34m=\u001b[0m \u001b[0mclassifier\u001b[0m\u001b[0;34m.\u001b[0m\u001b[0mpredict_proba\u001b[0m\u001b[0;34m(\u001b[0m\u001b[0mX\u001b[0m\u001b[0;34m,\u001b[0m \u001b[0;34m**\u001b[0m\u001b[0mpredict_proba_kwargs\u001b[0m\u001b[0;34m)\u001b[0m\u001b[0;34m\u001b[0m\u001b[0;34m\u001b[0m\u001b[0m\n\u001b[0m\u001b[1;32m     78\u001b[0m     \u001b[0;32mexcept\u001b[0m \u001b[0mNotFittedError\u001b[0m\u001b[0;34m:\u001b[0m\u001b[0;34m\u001b[0m\u001b[0;34m\u001b[0m\u001b[0m\n\u001b[1;32m     79\u001b[0m         \u001b[0;32mreturn\u001b[0m \u001b[0mnp\u001b[0m\u001b[0;34m.\u001b[0m\u001b[0mones\u001b[0m\u001b[0;34m(\u001b[0m\u001b[0mshape\u001b[0m\u001b[0;34m=\u001b[0m\u001b[0;34m(\u001b[0m\u001b[0mX\u001b[0m\u001b[0;34m.\u001b[0m\u001b[0mshape\u001b[0m\u001b[0;34m[\u001b[0m\u001b[0;36m0\u001b[0m\u001b[0;34m]\u001b[0m\u001b[0;34m,\u001b[0m \u001b[0;34m)\u001b[0m\u001b[0;34m)\u001b[0m\u001b[0;34m\u001b[0m\u001b[0;34m\u001b[0m\u001b[0m\n",
            "\u001b[0;32m/usr/local/lib/python3.6/dist-packages/modAL/models/base.py\u001b[0m in \u001b[0;36mpredict_proba\u001b[0;34m(self, X, **predict_proba_kwargs)\u001b[0m\n\u001b[1;32m    184\u001b[0m             \u001b[0mClass\u001b[0m \u001b[0mprobabilities\u001b[0m \u001b[0;32mfor\u001b[0m \u001b[0mX\u001b[0m\u001b[0;34m.\u001b[0m\u001b[0;34m\u001b[0m\u001b[0;34m\u001b[0m\u001b[0m\n\u001b[1;32m    185\u001b[0m         \"\"\"\n\u001b[0;32m--> 186\u001b[0;31m         \u001b[0;32mreturn\u001b[0m \u001b[0mself\u001b[0m\u001b[0;34m.\u001b[0m\u001b[0mestimator\u001b[0m\u001b[0;34m.\u001b[0m\u001b[0mpredict_proba\u001b[0m\u001b[0;34m(\u001b[0m\u001b[0mX\u001b[0m\u001b[0;34m,\u001b[0m \u001b[0;34m**\u001b[0m\u001b[0mpredict_proba_kwargs\u001b[0m\u001b[0;34m)\u001b[0m\u001b[0;34m\u001b[0m\u001b[0;34m\u001b[0m\u001b[0m\n\u001b[0m\u001b[1;32m    187\u001b[0m \u001b[0;34m\u001b[0m\u001b[0m\n\u001b[1;32m    188\u001b[0m     \u001b[0;32mdef\u001b[0m \u001b[0mquery\u001b[0m\u001b[0;34m(\u001b[0m\u001b[0mself\u001b[0m\u001b[0;34m,\u001b[0m \u001b[0;34m*\u001b[0m\u001b[0mquery_args\u001b[0m\u001b[0;34m,\u001b[0m \u001b[0;34m**\u001b[0m\u001b[0mquery_kwargs\u001b[0m\u001b[0;34m)\u001b[0m \u001b[0;34m->\u001b[0m \u001b[0mUnion\u001b[0m\u001b[0;34m[\u001b[0m\u001b[0mTuple\u001b[0m\u001b[0;34m,\u001b[0m \u001b[0mmodALinput\u001b[0m\u001b[0;34m]\u001b[0m\u001b[0;34m:\u001b[0m\u001b[0;34m\u001b[0m\u001b[0;34m\u001b[0m\u001b[0m\n",
            "\u001b[0;31mAttributeError\u001b[0m: 'KerasRegressor' object has no attribute 'predict_proba'"
          ]
        }
      ]
    },
    {
      "cell_type": "code",
      "metadata": {
        "id": "fhOHR9FFy5Fl",
        "colab_type": "code",
        "colab": {}
      },
      "source": [
        ""
      ],
      "execution_count": 0,
      "outputs": []
    }
  ]
}